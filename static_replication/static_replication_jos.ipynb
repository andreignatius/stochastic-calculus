{
 "cells": [
  {
   "cell_type": "code",
   "execution_count": 1,
   "metadata": {},
   "outputs": [],
   "source": [
    "import pandas as pd\n",
    "import numpy as np\n",
    "from scipy.stats import norm\n",
    "from scipy.optimize import brentq\n",
    "import matplotlib.pylab as plt\n",
    "from scipy.interpolate import interp1d\n",
    "from scipy.optimize import least_squares\n",
    "import matplotlib.ticker as ticker  \n",
    "from scipy.integrate import quad\n",
    "\n",
    "import sys\n",
    "sys.path.append('..')\n",
    "\n",
    "from analytical_option_formulae.option_types.vanilla_option import VanillaOption\n",
    "vanilla_option = VanillaOption()\n",
    "\n",
    "#please adjust this before running, its either SPX or SPY\n",
    "filename = 'SPY_options'"
   ]
  },
  {
   "cell_type": "code",
   "execution_count": 2,
   "metadata": {},
   "outputs": [],
   "source": [
    "#implied volatility reporting\n",
    "\n",
    "def implied_volatility(S: float, K: float, r: float, price: float, T: float, options_type: str) -> float:\n",
    "    try:\n",
    "        bs_model = lambda x: vanilla_option.black_scholes_model(S, K, r, x, T)\n",
    "        if (options_type.lower() == 'call'):\n",
    "            implied_vol = brentq(lambda x: price -\n",
    "                                bs_model(x).calculate_call_price(),\n",
    "                                1e-12, 10.0)\n",
    "        elif (options_type.lower() == 'put'):\n",
    "            implied_vol = brentq(lambda x: price -\n",
    "                                bs_model(x).calculate_put_price(),\n",
    "                                1e-12, 10.0)\n",
    "        else:\n",
    "            raise NameError('Payoff type not recognized')\n",
    "    except Exception:\n",
    "        implied_vol = np.nan\n",
    "\n",
    "    return implied_vol\n"
   ]
  },
  {
   "cell_type": "code",
   "execution_count": 3,
   "metadata": {},
   "outputs": [],
   "source": [
    "#Read SPX data\n",
    "df = pd.read_csv(f'{filename}.csv')\n",
    "df['mid'] = 0.5*(df['best_bid'] + df['best_offer'])\n",
    "df['strike'] = df['strike_price']*0.001\n",
    "df['payoff'] = df['cp_flag'].map(lambda x: 'call' if x == 'C' else 'put')\n",
    "df['date'] = pd.to_datetime(df['date'], format='%Y%m%d')\n",
    "df['exdate'] = pd.to_datetime(df['exdate'], format='%Y%m%d')\n",
    "df['days_to_expiry'] = (df['exdate'] - df['date']).dt.days\n",
    "df['years_to_expiry'] = df['days_to_expiry']/365\n",
    "#setup rates calculator\n",
    "rates_df = pd.read_csv('zero_rates_20201201.csv')\n",
    "rate_interpolate = interp1d(rates_df['days'], rates_df['rate'])\n",
    "df['rates'] = rate_interpolate(df['days_to_expiry']) / 100.0 #make it in fractions so i dont forget\n",
    "\n",
    "try:\n",
    "    if filename.lower() == 'spy_options':\n",
    "        S = 366.02\n",
    "    elif filename.lower() == 'spx_options':\n",
    "        S = 3662.45\n",
    "    else:\n",
    "        raise NameError('unknown input file')\n",
    "except Exception as e:\n",
    "    print(e)\n",
    "\n",
    "#impl market volatility column\n",
    "df['vols'] = df.apply(lambda x: implied_volatility(S, x['strike'], x['rates'], x['mid'], x['years_to_expiry'], x['payoff']),axis=1)\n",
    "df.dropna(inplace=True)\n",
    "\n",
    "#create market DF for each timestamp\n",
    "days_to_expiry  = sorted(df['days_to_expiry'].unique())\n",
    "summary_df = pd.DataFrame({'strike': df['strike'].unique() })\n",
    "option_type = []\n",
    "for days in days_to_expiry:\n",
    "    day_df  = df[df['days_to_expiry'] == days]\n",
    "    call_df = day_df[day_df['payoff'] == 'call']\n",
    "    put_df  = day_df[day_df['payoff'] == 'put']\n",
    "    strikes = sorted(day_df['strike'].unique())\n",
    "    impliedvols = []\n",
    "    for K in strikes:    \n",
    "        if K > S:\n",
    "            impliedvols.append(call_df[call_df['strike'] == K]['vols'].values[0])\n",
    "            option_type.append('call')\n",
    "        else:\n",
    "            impliedvols.append(put_df[put_df['strike'] == K]['vols'].values[0])\n",
    "            option_type.append('put')\n",
    "\n",
    "    day_market_df = pd.DataFrame({'strike': strikes, days : impliedvols})\n",
    "    summary_df = pd.merge(summary_df, day_market_df, how=\"outer\", on='strike')\n",
    "\n",
    "summary_df['option_type'] = summary_df.apply(lambda x: 'call' if x['strike'] > S else 'put', axis=1)\n",
    "summary_df = summary_df.sort_values(by=['strike'])\n",
    "summary_df = summary_df.reset_index()\n",
    "summary_df = summary_df.drop(columns=['index'])\n",
    "summary_df.to_csv(f'{filename}_vol_summary.csv')\n",
    "\n",
    "#get atm implied vols, this is an approximation but good enough\n",
    "atm_vols = {}\n",
    "for i,days in enumerate(days_to_expiry):\n",
    "    adjusted_summary_df = summary_df.iloc[:, [0,1+i,-1]].copy()\n",
    "    adjusted_summary_df.dropna(inplace=True)    \n",
    "    atm_vols[days] = np.interp(S,adjusted_summary_df.iloc[:, 0],adjusted_summary_df.iloc[:, 1])"
   ]
  },
  {
   "cell_type": "code",
   "execution_count": 4,
   "metadata": {},
   "outputs": [],
   "source": [
    "start_date  = pd.to_datetime('2020-12-01')\n",
    "end_date    = pd.to_datetime('2021-01-15')\n",
    "day_diff = (end_date-start_date).days\n",
    "T = day_diff/365.0\n",
    "rate = rate_interpolate(day_diff)/100.0\n",
    "sigma = atm_vols[day_diff]\n"
   ]
  },
  {
   "cell_type": "markdown",
   "metadata": {},
   "source": [
    "Expected Black Scholes payoff is defined as\n",
    "$$\n",
    "E[V_T]= {S_0}^\\frac{1}{3}e^{\\frac{rT}{3}}e^{\\frac{-\\sigma^2T}{9}} + 1.5(log{S_0} + (r-\\frac{\\sigma^2}{2})T) + 10\n",
    "$$\n",
    "\n",
    "Therefore, the price is\n",
    "$$\n",
    "V_0 = e^{-rT}E[V_T]\n",
    "$$\n"
   ]
  },
  {
   "cell_type": "code",
   "execution_count": 5,
   "metadata": {},
   "outputs": [],
   "source": [
    "#black scholes payoff\n",
    "def bs_price(S,rate,sigma,T):\n",
    "    return np.exp(-rate*T) *((np.power(S,1.0/3.0) * np.exp((rate - 0.5 * sigma ** 2) * T * (1.0/3.0)) * np.exp(0.5 * (1.0/9.0) * T * sigma**2) \\\n",
    "                + 1.5* (np.log(S) + (rate - 0.5 * sigma ** 2) * T)  \\\n",
    "                + 10))\n"
   ]
  },
  {
   "cell_type": "markdown",
   "metadata": {},
   "source": [
    "Expected Bachelier payoff defined as\n",
    "\n",
    "$$\n",
    "E[V_T] = \\frac{1}{\\sqrt{2\\pi}}\\int_{-\\infty}^{\\infty} (S_0 + \\sigma S_0 x)^\\frac{1}{3} e^\\frac{-x^2}{2}\\,dx +\n",
    "\\frac{1}{\\sqrt{2\\pi}}\\int_{-\\infty}^{\\infty} 1.5log(S_0 + \\sigma S_0 x) e^\\frac{-x^2}{2}\\,dx\n",
    "+10\n",
    "$$\n",
    "\n",
    "Note  $$S_T = S_0 + \\sigma S_0W_T$$\n",
    "\n",
    "Therefore, the price is\n",
    "$$\n",
    "V_0 = e^{-rT}E[V_T]\n",
    "$$\n"
   ]
  },
  {
   "cell_type": "code",
   "execution_count": 6,
   "metadata": {},
   "outputs": [],
   "source": [
    "def integrand_1(x,S,sigma,T):\n",
    "    return (1/np.sqrt(2*np.pi)) * np.power((S + sigma * S * np.sqrt(T) * x), 1.0/3.0) * np.exp(-0.5 * np.power(x,2))\n",
    "\n",
    "def integrand_2(x,S,sigma,T):\n",
    "    return (1/np.sqrt(2*np.pi)) * 1.5 * np.log(S + sigma * S * np.sqrt(T) * x) * np.exp(-0.5 * np.power(x,2))\n",
    "\n",
    "def bachelier_price(S,rate,sigma,T):\n",
    "    lower_bound = -1 / (sigma * np.sqrt(T)) #log term lower bound\n",
    "    I_1 = quad(lambda x: integrand_1(x,S,sigma,T), lower_bound, np.inf)\n",
    "    I_2 = quad(lambda x: integrand_2(x,S,sigma,T), lower_bound, np.inf)\n",
    "    V_0_bachelier = np.exp(-rate*T) * (I_1[0] + I_2[0] + 10)\n",
    "    return V_0_bachelier\n"
   ]
  },
  {
   "cell_type": "code",
   "execution_count": 7,
   "metadata": {},
   "outputs": [],
   "source": [
    "spy_sabr_params = {17: {'alpha': 0.6654021927640178,\n",
    "  'rho': -0.411899860796424,\n",
    "  'nu': 5.249981412437772},\n",
    " 45: {'alpha': 0.9081326347161665,\n",
    "  'rho': -0.48877944853880195,\n",
    "  'nu': 2.7285163433392956},\n",
    " 80: {'alpha': 1.1209243554286754,\n",
    "  'rho': -0.632939170293977,\n",
    "  'nu': 1.742224770841638}}\n",
    "spx_sabr_params = {17: {'alpha': 1.2122899548875727,\n",
    "  'rho': -0.3009002722327193,\n",
    "  'nu': 5.459761425517507},\n",
    " 45: {'alpha': 1.8165044343707681,\n",
    "  'rho': -0.40430176121217326,\n",
    "  'nu': 2.7901583189643917},\n",
    " 80: {'alpha': 2.140132609863112,\n",
    "  'rho': -0.5749338828217627,\n",
    "  'nu': 1.8417469754894316}}\n",
    "\n",
    "try:\n",
    "    if filename.lower() == 'spy_options':\n",
    "        alpha = spy_sabr_params[day_diff]['alpha']\n",
    "        rho = spy_sabr_params[day_diff]['rho']\n",
    "        nu = spy_sabr_params[day_diff]['nu']\n",
    "        beta = 0.7\n",
    "    elif filename.lower() == 'spx_options':\n",
    "        alpha = spx_sabr_params[day_diff]['alpha']\n",
    "        rho = spx_sabr_params[day_diff]['rho']\n",
    "        nu = spx_sabr_params[day_diff]['nu']\n",
    "        beta = 0.7\n",
    "    else:\n",
    "        raise NameError('unknown input file')\n",
    "except Exception as e:\n",
    "    print(e)\n",
    "\n",
    "#i just use prof Tee\n",
    "def SABR(F, K, T, alpha, beta, rho, nu):\n",
    "    X = K\n",
    "    # if K is at-the-money-forward\n",
    "    if abs(F - K) < 1e-12:\n",
    "        numer1 = (((1 - beta)**2)/24)*alpha*alpha/(F**(2 - 2*beta))\n",
    "        numer2 = 0.25*rho*beta*nu*alpha/(F**(1 - beta))\n",
    "        numer3 = ((2 - 3*rho*rho)/24)*nu*nu\n",
    "        VolAtm = alpha*(1 + (numer1 + numer2 + numer3)*T)/(F**(1-beta))\n",
    "        sabrsigma = VolAtm\n",
    "    else:\n",
    "        z = (nu/alpha)*((F*X)**(0.5*(1-beta)))*np.log(F/X)\n",
    "        zhi = np.log((((1 - 2*rho*z + z*z)**0.5) + z - rho)/(1 - rho))\n",
    "        numer1 = (((1 - beta)**2)/24)*((alpha*alpha)/((F*X)**(1 - beta)))\n",
    "        numer2 = 0.25*rho*beta*nu*alpha/((F*X)**((1 - beta)/2))\n",
    "        numer3 = ((2 - 3*rho*rho)/24)*nu*nu\n",
    "        numer = alpha*(1 + (numer1 + numer2 + numer3)*T)*z\n",
    "        denom1 = ((1 - beta)**2/24)*(np.log(F/X))**2\n",
    "        denom2 = (((1 - beta)**4)/1920)*((np.log(F/X))**4)\n",
    "        denom = ((F*X)**((1 - beta)/2))*(1 + denom1 + denom2)*zhi\n",
    "        sabrsigma = numer/denom\n",
    "\n",
    "    return sabrsigma"
   ]
  },
  {
   "cell_type": "markdown",
   "metadata": {},
   "source": [
    "For SABR payoff, we must retrieve the volatility using previous calibration result\n",
    "\n",
    "$$\n",
    "h(S_T) = S_T^{\\frac{1}{3}} + 1.5 log(S_T) + 10 \\\\\n",
    "h''(S_T) = -\\frac{2}{9}S_T^{-\\frac{5}{3}} - 1.5\\frac{1}{S_T^2} \\\\\n",
    "F = S_0 e ^ {rT}\n",
    "$$\n",
    "\n",
    "Therefore, the price is\n",
    "$$ \n",
    "V_0 = e^{-rT}h(F) + \\int_{0}^{F} h''(K)P(K) \\,dK + \\int_{F}^{\\infty} h''(K)C(K) \\,dK\n",
    "$$"
   ]
  },
  {
   "cell_type": "code",
   "execution_count": 8,
   "metadata": {},
   "outputs": [],
   "source": [
    "def h_func(F):\n",
    "    return np.power(F,1.0/3.0) + 1.5 * np.log(F) + 10\n",
    "def h_second_deriv(F):\n",
    "    return (-2/9) * np.power(F,-5.0/3.0) - 1.5 * np.power(F,-2)\n",
    "\n",
    "def h_put_integ(x,S,rate,T):\n",
    "    #self, S: float, K: float, r: float, sigma: float, T: float\n",
    "    F = S * np.exp(rate * T)\n",
    "    sigma_p = SABR(F,x,T,alpha,beta,rho,nu)\n",
    "    bsmodel = vanilla_option.black_scholes_model(S,x,rate,sigma_p,T)\n",
    "    return h_second_deriv(x) * bsmodel.calculate_put_price()\n",
    "    \n",
    "def h_call_integ(x,S,rate,T):\n",
    "    F = S * np.exp(rate * T)\n",
    "    sigma_c = SABR(F,x,T,alpha,beta,rho,nu)\n",
    "    bsmodel = vanilla_option.black_scholes_model(S,x,rate,sigma_c,T)\n",
    "    return h_second_deriv(x) * bsmodel.calculate_call_price()\n",
    "\n",
    "def sabr_price(S,rate, sigma, T):\n",
    "    F = S * np.exp(rate * T)\n",
    "    I_put = quad(lambda x: h_put_integ(x,S,rate,T), 1e-6, F)\n",
    "    I_call = quad(lambda x: h_call_integ(x,S,rate,T), F, np.inf)\n",
    "    V_0_SABR = np.exp(-rate*T) * h_func(F) +\\\n",
    "             I_put[0]   +   \\\n",
    "             I_call[0]\n",
    "    return V_0_SABR\n"
   ]
  },
  {
   "cell_type": "code",
   "execution_count": 9,
   "metadata": {},
   "outputs": [
    {
     "name": "stdout",
     "output_type": "stream",
     "text": [
      "SPX_options for exotic 1 --> sigma = 0.1849096526276905; Black Scholes: 37.7048975, Bachelier : 37.7031637, SABR: 37.7003687\n"
     ]
    }
   ],
   "source": [
    "V_0_bachelier = bachelier_price(S,rate, sigma, T)\n",
    "V_0_black_scholes = bs_price(S,rate,sigma,T)\n",
    "V_0_SABR = sabr_price(S,rate,sigma,T)\n",
    "print(f'{filename} for exotic 1 --> sigma = {sigma}; Black Scholes: {V_0_black_scholes:.7f}, Bachelier : {V_0_bachelier:.7f}, SABR: {V_0_SABR:.7f}')"
   ]
  },
  {
   "cell_type": "markdown",
   "metadata": {},
   "source": [
    "# Model Free Integrated Variance - Black Scholes #\n",
    "\n",
    "\\begin{equation*}\n",
    "\\begin{split}\n",
    "    \\mathbb{E}\\left[\\int_0^T\\sigma_t^2 \\;dt\\right] = 2e^{rT} \\left(\\int_0^{F}\\frac{P(K)}{K^2}\\;dK + \\int_{F}^{\\infty}\\frac{C(K)}{K^2}\\;dK\\right)\n",
    "    \\end{split}\n",
    "\\end{equation*}\n",
    "\n"
   ]
  },
  {
   "cell_type": "code",
   "execution_count": 10,
   "metadata": {},
   "outputs": [],
   "source": [
    "def bs_put_integ(x,S,rate,sigma,T):\n",
    "    bsmodel = vanilla_option.black_scholes_model(S,x,rate,sigma,T)\n",
    "    return bsmodel.calculate_put_price()/(np.power(x,2))\n",
    "    \n",
    "def bs_call_integ(x,S,rate,sigma,T):\n",
    "    bsmodel = vanilla_option.black_scholes_model(S,x,rate,sigma,T)\n",
    "    return bsmodel.calculate_call_price()/(np.power(x,2))"
   ]
  },
  {
   "cell_type": "code",
   "execution_count": 11,
   "metadata": {},
   "outputs": [
    {
     "data": {
      "text/plain": [
       "0.004215400228959317"
      ]
     },
     "execution_count": 11,
     "metadata": {},
     "output_type": "execute_result"
    }
   ],
   "source": [
    "F = S * np.exp(rate*T)\n",
    "I_put = quad(lambda x: bs_put_integ(x, S, rate, sigma, T), 0.0, F)\n",
    "I_call = quad(lambda x: bs_call_integ(x, S, rate, sigma, T), F, np.inf)\n",
    "bs_E_var = 2*np.exp(rate*T)*(I_put[0] + I_call[0])\n",
    "bs_E_var"
   ]
  },
  {
   "cell_type": "markdown",
   "metadata": {},
   "source": [
    "# Model Free Integrated Variance - Bachelier #\n"
   ]
  },
  {
   "cell_type": "code",
   "execution_count": 12,
   "metadata": {},
   "outputs": [],
   "source": [
    "def bach_put_integ(x,S,rate,sigma,T):\n",
    "    bachmodel = vanilla_option.bachelier_model(S,x,rate,sigma,T)\n",
    "    return bachmodel.calculate_put_price()/(np.power(x,2))\n",
    "    \n",
    "def bach_call_integ(x,S,rate,sigma,T):\n",
    "    bachmodel = vanilla_option.bachelier_model(S,x,rate,sigma,T)\n",
    "    return bachmodel.calculate_call_price()/(np.power(x,2))"
   ]
  },
  {
   "cell_type": "code",
   "execution_count": 13,
   "metadata": {},
   "outputs": [
    {
     "data": {
      "text/plain": [
       "0.004242501646917696"
      ]
     },
     "execution_count": 13,
     "metadata": {},
     "output_type": "execute_result"
    }
   ],
   "source": [
    "F = S * np.exp(rate*T)\n",
    "I_put = quad(lambda x: bach_put_integ(x, S, rate, sigma, T), 0.0, F)\n",
    "I_call = quad(lambda x: bach_call_integ(x, S, rate, sigma, T), F, np.inf)\n",
    "bach_E_var = 2*np.exp(rate*T)*(I_put[0] + I_call[0])\n",
    "bach_E_var"
   ]
  },
  {
   "cell_type": "markdown",
   "metadata": {},
   "source": [
    "# Model Free Integrated Variance - SABR #\n"
   ]
  },
  {
   "cell_type": "code",
   "execution_count": 14,
   "metadata": {},
   "outputs": [],
   "source": [
    "def sabr_put_integ(x,S,rate,T, alpha, beta, rho, nu):\n",
    "    F = S * np.exp(rate * T)\n",
    "    sigma_p = SABR(F,x,T,alpha,beta,rho,nu)\n",
    "    bsmodel = vanilla_option.black_scholes_model(S,x,rate,sigma_p,T)\n",
    "    return bsmodel.calculate_put_price()/(np.power(x,2))\n",
    "    \n",
    "def sabr_call_integ(x,S,rate,T, alpha, beta, rho, nu):\n",
    "    F = S * np.exp(rate * T)\n",
    "    sigma_c = SABR(F,x,T,alpha,beta,rho,nu)\n",
    "    bsmodel = vanilla_option.black_scholes_model(S,x,rate,sigma_c,T)\n",
    "    return bsmodel.calculate_call_price()/(np.power(x,2))\n"
   ]
  },
  {
   "cell_type": "code",
   "execution_count": 16,
   "metadata": {},
   "outputs": [
    {
     "data": {
      "text/plain": [
       "0.006350989023114547"
      ]
     },
     "execution_count": 16,
     "metadata": {},
     "output_type": "execute_result"
    }
   ],
   "source": [
    "F = S * np.exp(rate*T)\n",
    "I_put = quad(lambda x: sabr_put_integ(x, S, rate, T, alpha, beta, rho, nu), 0.0, F)\n",
    "I_call = quad(lambda x: sabr_call_integ(x, S, rate, T, alpha, beta, rho, nu), F, np.inf)\n",
    "sabr_E_var = 2*np.exp(rate*T)*(I_put[0] + I_call[0])\n",
    "sabr_E_var"
   ]
  },
  {
   "cell_type": "code",
   "execution_count": 17,
   "metadata": {},
   "outputs": [
    {
     "name": "stdout",
     "output_type": "stream",
     "text": [
      "SPX_options for exotic 1 --> sigma = 0.1849096526276905; Black Scholes: 0.0042154, Bachelier : 0.0042425, SABR: 0.0063510\n"
     ]
    }
   ],
   "source": [
    "print(f'{filename} for exotic 1 --> sigma = {sigma}; Black Scholes: {bs_E_var:.7f}, Bachelier : {bach_E_var:.7f}, SABR: {sabr_E_var:.7f}')"
   ]
  },
  {
   "cell_type": "code",
   "execution_count": null,
   "metadata": {},
   "outputs": [],
   "source": []
  }
 ],
 "metadata": {
  "kernelspec": {
   "display_name": "Python 3",
   "language": "python",
   "name": "python3"
  },
  "language_info": {
   "codemirror_mode": {
    "name": "ipython",
    "version": 3
   },
   "file_extension": ".py",
   "mimetype": "text/x-python",
   "name": "python",
   "nbconvert_exporter": "python",
   "pygments_lexer": "ipython3",
   "version": "3.11.5"
  }
 },
 "nbformat": 4,
 "nbformat_minor": 2
}
