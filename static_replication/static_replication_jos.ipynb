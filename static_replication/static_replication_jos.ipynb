{
 "cells": [
  {
   "cell_type": "code",
   "execution_count": 1,
   "metadata": {},
   "outputs": [],
   "source": [
    "import pandas as pd\n",
    "import numpy as np\n",
    "from scipy.stats import norm\n",
    "from scipy.optimize import brentq\n",
    "import matplotlib.pylab as plt\n",
    "from scipy.interpolate import interp1d\n",
    "from scipy.optimize import least_squares\n",
    "import matplotlib.ticker as ticker  \n",
    "from scipy.integrate import quad\n",
    "\n",
    "import sys\n",
    "sys.path.append('..')\n",
    "\n",
    "from analytical_option_formulae.option_types.vanilla_option import VanillaOption\n",
    "vanilla_option = VanillaOption()\n",
    "\n",
    "#please adjust this before running, its either SPX or SPY\n",
    "filename = 'SPX_options'"
   ]
  },
  {
   "cell_type": "code",
   "execution_count": 2,
   "metadata": {},
   "outputs": [],
   "source": [
    "#implied volatility reporting\n",
    "\n",
    "def implied_volatility(S: float, K: float, r: float, price: float, T: float, options_type: str) -> float:\n",
    "    try:\n",
    "        bs_model = lambda x: vanilla_option.black_scholes_model(S, K, r, x, T)\n",
    "        if (options_type.lower() == 'call'):\n",
    "            implied_vol = brentq(lambda x: price -\n",
    "                                bs_model(x).calculate_call_price(),\n",
    "                                1e-12, 10.0)\n",
    "        elif (options_type.lower() == 'put'):\n",
    "            implied_vol = brentq(lambda x: price -\n",
    "                                bs_model(x).calculate_put_price(),\n",
    "                                1e-12, 10.0)\n",
    "        else:\n",
    "            raise NameError('Payoff type not recognized')\n",
    "    except Exception:\n",
    "        implied_vol = np.nan\n",
    "\n",
    "    return implied_vol\n"
   ]
  },
  {
   "cell_type": "code",
   "execution_count": 3,
   "metadata": {},
   "outputs": [],
   "source": [
    "#Read SPX data\n",
    "df = pd.read_csv(f'{filename}.csv')\n",
    "df['mid'] = 0.5*(df['best_bid'] + df['best_offer'])\n",
    "df['strike'] = df['strike_price']*0.001\n",
    "df['payoff'] = df['cp_flag'].map(lambda x: 'call' if x == 'C' else 'put')\n",
    "df['date'] = pd.to_datetime(df['date'], format='%Y%m%d')\n",
    "df['exdate'] = pd.to_datetime(df['exdate'], format='%Y%m%d')\n",
    "df['days_to_expiry'] = (df['exdate'] - df['date']).dt.days\n",
    "df['years_to_expiry'] = df['days_to_expiry']/365\n",
    "#setup rates calculator\n",
    "rates_df = pd.read_csv('zero_rates_20201201.csv')\n",
    "rate_interpolate = interp1d(rates_df['days'], rates_df['rate'])\n",
    "df['rates'] = rate_interpolate(df['days_to_expiry']) / 100.0 #make it in fractions so i dont forget\n",
    "\n",
    "try:\n",
    "    if filename.lower() == 'spy_options':\n",
    "        S = 366.02\n",
    "    elif filename.lower() == 'spx_options':\n",
    "        S = 3662.45\n",
    "    else:\n",
    "        raise NameError('unknown input file')\n",
    "except Exception as e:\n",
    "    print(e)\n",
    "\n",
    "#impl market volatility column\n",
    "df['vols'] = df.apply(lambda x: implied_volatility(S, x['strike'], x['rates'], x['mid'], x['years_to_expiry'], x['payoff']),axis=1)\n",
    "df.dropna(inplace=True)\n",
    "\n"
   ]
  },
  {
   "cell_type": "code",
   "execution_count": 4,
   "metadata": {},
   "outputs": [],
   "source": [
    "#create market DF for each timestamp\n",
    "days_to_expiry  = sorted(df['days_to_expiry'].unique())\n",
    "summary_df = pd.DataFrame({'strike': df['strike'].unique() })\n",
    "option_type = []\n",
    "for days in days_to_expiry:\n",
    "    day_df  = df[df['days_to_expiry'] == days]\n",
    "    call_df = day_df[day_df['payoff'] == 'call']\n",
    "    put_df  = day_df[day_df['payoff'] == 'put']\n",
    "    strikes = sorted(day_df['strike'].unique())\n",
    "    impliedvols = []\n",
    "    for K in strikes:    \n",
    "        if K > S:\n",
    "            impliedvols.append(call_df[call_df['strike'] == K]['vols'].values[0])\n",
    "            option_type.append('call')\n",
    "        else:\n",
    "            impliedvols.append(put_df[put_df['strike'] == K]['vols'].values[0])\n",
    "            option_type.append('put')\n",
    "\n",
    "    day_market_df = pd.DataFrame({'strike': strikes, days : impliedvols})\n",
    "    summary_df = pd.merge(summary_df, day_market_df, how=\"outer\", on='strike')\n",
    "\n",
    "summary_df['option_type'] = summary_df.apply(lambda x: 'call' if x['strike'] > S else 'put', axis=1)\n",
    "summary_df = summary_df.sort_values(by=['strike'])\n",
    "summary_df = summary_df.reset_index()\n",
    "summary_df = summary_df.drop(columns=['index'])\n",
    "summary_df.to_csv(f'{filename}_vol_summary.csv')"
   ]
  },
  {
   "cell_type": "code",
   "execution_count": 5,
   "metadata": {},
   "outputs": [
    {
     "data": {
      "text/plain": [
       "{17: 0.17448532472572187, 45: 0.1849096526276905, 80: 0.19374721854522414}"
      ]
     },
     "execution_count": 5,
     "metadata": {},
     "output_type": "execute_result"
    }
   ],
   "source": [
    "#get atm implied vols, this is an approximation but good enough\n",
    "atm_vols = {}\n",
    "for i,days in enumerate(days_to_expiry):\n",
    "    adjusted_summary_df = summary_df.iloc[:, [0,1+i,-1]].copy()\n",
    "    adjusted_summary_df.dropna(inplace=True)    \n",
    "    atm_vols[days] = np.interp(S,adjusted_summary_df.iloc[:, 0],adjusted_summary_df.iloc[:, 1])\n",
    "atm_vols"
   ]
  },
  {
   "cell_type": "code",
   "execution_count": 6,
   "metadata": {},
   "outputs": [
    {
     "data": {
      "text/plain": [
       "45"
      ]
     },
     "execution_count": 6,
     "metadata": {},
     "output_type": "execute_result"
    }
   ],
   "source": [
    "start_date  = pd.to_datetime('2020-12-01')\n",
    "end_date    = pd.to_datetime('2021-01-15')\n",
    "day_diff = (end_date-start_date).days\n",
    "T = day_diff/365.0\n",
    "rate = rate_interpolate(day_diff)/100.0\n",
    "day_diff"
   ]
  },
  {
   "cell_type": "markdown",
   "metadata": {},
   "source": [
    "Expected Black Scholes payoff is defined as\n",
    "$$\n",
    "E[V_T]= {S_0}^\\frac{1}{3}e^{\\frac{1}{3}(r-\\frac{\\sigma^2}{2})T}e^{\\frac{1}{2}\\frac{\\sigma^2}{9}T} + 1.5(log{S_0} + (r-\\frac{\\sigma^2}{2})T) + 10\n",
    "$$\n",
    "\n",
    "Therefore, the price is\n",
    "$$\n",
    "V_0 = e^{-rT}E[V_T]\n",
    "$$\n"
   ]
  },
  {
   "cell_type": "code",
   "execution_count": 7,
   "metadata": {},
   "outputs": [],
   "source": [
    "#black scholes payoff\n",
    "sigma = np.linspace(0,0.3,100)\n",
    "\n",
    "def bs_price(S,rate,sigma,T):\n",
    "    return np.exp(-rate*T) *((np.power(S,1.0/3.0) * np.exp((rate - 0.5 * sigma ** 2) * T * (1.0/3.0)) * np.exp(0.5 * (1.0/9.0) * T * sigma**2) \\\n",
    "                + 1.5* (np.log(S) + (rate - 0.5 * sigma ** 2) * T)  \\\n",
    "                + 10))\n"
   ]
  },
  {
   "cell_type": "code",
   "execution_count": 8,
   "metadata": {},
   "outputs": [
    {
     "name": "stdout",
     "output_type": "stream",
     "text": [
      "S = 3662.45, rate = 0.0020510755555555554 ,sigma = 0.1849096526276905, T = 0.1232876712328767\n"
     ]
    }
   ],
   "source": [
    "print(f'S = {S}, rate = {rate} ,sigma = {atm_vols[day_diff]}, T = {T}')"
   ]
  },
  {
   "cell_type": "code",
   "execution_count": 9,
   "metadata": {},
   "outputs": [
    {
     "data": {
      "text/plain": [
       "37.70489747924678"
      ]
     },
     "execution_count": 9,
     "metadata": {},
     "output_type": "execute_result"
    }
   ],
   "source": [
    "bs_price(S,rate,atm_vols[day_diff],T)"
   ]
  },
  {
   "cell_type": "markdown",
   "metadata": {},
   "source": [
    "Expected Bachelier payoff defined as\n",
    "\n",
    "$$\n",
    "E[V_T] = \\frac{1}{\\sqrt{2\\pi}}\\int_{-\\infty}^{\\infty} (S_0 + \\sigma S_0 x)^\\frac{1}{3} e^\\frac{-x^2}{2}\\,dx +\n",
    "\\frac{1}{\\sqrt{2\\pi}}\\int_{-\\infty}^{\\infty} 1.5log(S_0 + \\sigma S_0 x) e^\\frac{-x^2}{2}\\,dx\n",
    "+10\n",
    "$$\n",
    "\n",
    "Note  $$S_T = S_0 + \\sigma S_0W_T$$\n",
    "\n",
    "Therefore, the price is\n",
    "$$\n",
    "V_0 = e^{-rT}E[V_T]\n",
    "$$\n"
   ]
  },
  {
   "cell_type": "code",
   "execution_count": 10,
   "metadata": {},
   "outputs": [
    {
     "name": "stdout",
     "output_type": "stream",
     "text": [
      "The integral is: 0.000000000\n",
      "The integral is: 0.000000000\n",
      "The expected payoff is: 10.0\n"
     ]
    }
   ],
   "source": [
    "def integrand_1(x,S,sigma):\n",
    "    return (1/np.sqrt(2*np.pi)) * np.power((S + sigma * S * x), 1.0/3.0) * np.exp(-np.power(x,2)/2)\n",
    "def integrand_2(x,S,sigma):\n",
    "    return (1/np.sqrt(2*np.pi)) * 1.5* np.log(S + sigma * S * x) * np.exp(-np.power(x,2)/2)\n",
    "sigma = atm_vols[day_diff]\n",
    "I_1 = quad(lambda x: integrand_1(x,S,sigma), 1, 1e10)\n",
    "print('The integral is: %.9f' % I_1[0])\n",
    "I_2 = quad(lambda x: integrand_2(x,S,sigma), 1, 1e10)\n",
    "print('The integral is: %.9f' % I_2[0])\n",
    "\n",
    "expected_payoff = I_1[0] + I_2[0] + 10\n",
    "print(f'The expected payoff is: {expected_payoff}')\n"
   ]
  },
  {
   "cell_type": "code",
   "execution_count": null,
   "metadata": {},
   "outputs": [],
   "source": []
  },
  {
   "cell_type": "markdown",
   "metadata": {},
   "source": [
    "# Barone-Adesi & Whaley Approximation for American Call #\n",
    "\n",
    "The value of an American Call Option can be approximated to be\n",
    "\n",
    "$$\n",
    "C(S,T) = c(S,T) + A_2\\left(\\frac{S}{S^*}\\right)^{q_2}   ; S < S^* \\\\\n",
    "C(S,T) = S- X  ; S \\geq S^*\n",
    "$$\n",
    "\n",
    "Where \n",
    "* $S$ is underlying commodity price (e.g. stock, etc)\n",
    "* $S^*$ is critical commodity price\n",
    "* $T$ is time to expiration\n",
    "* $X$ is the strike price\n",
    "\n",
    "We can see the parameters that we need  are\n",
    "* $A_2$\n",
    "* $S^*$\n",
    "* $q_2$\n",
    "\n",
    "$$\n",
    "K(T)= 1-e^{-rT}\\\\\n",
    "M = \\frac{2r}{\\sigma^2}\\\\\n",
    "N = \\frac{2b}{\\sigma^2}\\\\\n",
    "q_2 = \\frac{\\left[-(N - 1) + \\left(\\sqrt{(N - 1)^2 + \\frac{4M}{K}}\\right)\\right]}{2}\\\\\n",
    "A_2 = \\frac{S^*}{q_2} (1 - e^{(b-r)T}N[d_1(S^*)]) \\\\\n",
    "d_1 = \\frac{ln(\\frac{S}{X}) + (b + \\frac{\\sigma^2}{2})T}{\\sigma \\sqrt{T}} \\:  \\text{(seem familiar?)} \\\\\n",
    "S^* - X = c(S^*,T) + \\frac{S^*}{q_2} (1 - e^{(b-r)T}N[d_1(S^*)])\n",
    "$$\n",
    "\n",
    "We could further simplify the formula : First, the short-term interest rate, r, and the cost of carrying the commodity, b, are assumed to be constant, proportional rates.For a non-dividend-paying stock, the cost of carry is equal to the riskless rate of interest (i.e., b = r).\n",
    "\n",
    "\n",
    "Note that the the authors mention that $S^*$ must be determined iteratively. Or using an approximator formula\n"
   ]
  },
  {
   "cell_type": "markdown",
   "metadata": {},
   "source": [
    "# Barone-Adesi & Whaley Approximation for American Put #\n",
    "\n",
    "The value of an American Call Option can be approximated to be\n",
    "\n",
    "$$\n",
    "P(S,T) = p(S,T) + A_a\\left(\\frac{S}{S^{**}}\\right)^{q_2}   ; S > S^{**} \\\\\n",
    "P(S,T) = X - S  ; S \\leq S^{**}\n",
    "$$\n",
    "\n",
    "Where \n",
    "* $S$ is underlying commodity price (e.g. stock, etc)\n",
    "* $S^*$ is critical commodity price\n",
    "* $T$ is time to expiration\n",
    "* $X$ is the strike price\n",
    "\n",
    "We can see the parameters that we need  are\n",
    "* $A_2$\n",
    "* $S^*$\n",
    "* $q_2$\n",
    "\n",
    "$$\n",
    "K(T)= 1-e^{-rT}\\\\\n",
    "M = \\frac{2r}{\\sigma^2}\\\\\n",
    "N = \\frac{2b}{\\sigma^2}\\\\\n",
    "q_1 = \\frac{\\left[-(N - 1) - \\left(\\sqrt{(N - 1)^2 + \\frac{4M}{K}}\\right)\\right]}{2}\\\\\n",
    "A_1 = -\\frac{S^{**}}{q_1} (1 - e^{(b-r)T}N[-d_1(S^{**})]) \\\\\n",
    "X - S^{**}= p(S^{**},T)- (1 - e^{(b-r)T}N[-d_1(S^{**})]) \\\\\n",
    "$$\n",
    "\n",
    "We could further simplify the formula : First, the short-term interest rate, r, and the cost of carrying the commodity, b, are assumed to be constant, proportional rates.For a non-dividend-paying stock, the cost of carry is equal to the riskless rate of interest (i.e., b = r).\n",
    "\n",
    "\n",
    "Note that the the authors mention that $S^{**}$ must be determined iteratively. Or using an approximator formula\n"
   ]
  },
  {
   "cell_type": "markdown",
   "metadata": {},
   "source": []
  }
 ],
 "metadata": {
  "kernelspec": {
   "display_name": "Python 3",
   "language": "python",
   "name": "python3"
  },
  "language_info": {
   "codemirror_mode": {
    "name": "ipython",
    "version": 3
   },
   "file_extension": ".py",
   "mimetype": "text/x-python",
   "name": "python",
   "nbconvert_exporter": "python",
   "pygments_lexer": "ipython3",
   "version": "3.11.5"
  }
 },
 "nbformat": 4,
 "nbformat_minor": 2
}
